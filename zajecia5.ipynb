{
 "cells": [
  {
   "cell_type": "markdown",
   "id": "a4bf827e",
   "metadata": {},
   "source": [
    "# 📘 Test powtórkowy z Pythona\n",
    "\n",
    "Cześć! Ten test pomoże Ci przypomnieć sobie najważniejsze rzeczy z naszych zajęć.\n",
    "W każdym zadaniu zaimplementuj funkcję zgodnie z treścią zadania.\n",
    "Po wykonaniu możesz sprawdzić poprawność swojego rozwiązania przy pomocy przygotowanych testów.\n",
    "Pamiętaj, że jeśli nie działa – to nic strasznego! Próbuj poprawiać kod aż zadziała ✅\n",
    "\n",
    "Powodzenia! 🚀"
   ]
  },
  {
   "cell_type": "markdown",
   "id": "2f974fe0",
   "metadata": {},
   "source": [
    "### 📘 Zadanie 1: Suma liczb parzystych\n",
    "\n",
    "Napisz funkcję `suma_parzystych(n)`, która zwraca sumę wszystkich liczb parzystych od 0 do `n` włącznie."
   ]
  },
  {
   "cell_type": "code",
   "execution_count": null,
   "id": "a31ef3c4",
   "metadata": {},
   "outputs": [],
   "source": [
    "def suma_parzystych(n):\n",
    "    pass  # tutaj napisz swoją funkcję\n"
   ]
  },
  {
   "cell_type": "code",
   "execution_count": null,
   "id": "4dab0fc4",
   "metadata": {},
   "outputs": [],
   "source": [
    "# Testy\n",
    "assert suma_parzystych(10) == 30\n",
    "assert suma_parzystych(1) == 0\n",
    "assert suma_parzystych(0) == 0\n",
    "print(\"✅ Zadanie 1 działa poprawnie!\")\n"
   ]
  },
  {
   "cell_type": "markdown",
   "id": "b375d25a",
   "metadata": {},
   "source": [
    "### 📘 Zadanie 2: Sprawdź, czy liczba jest pierwsza\n",
    "\n",
    "Napisz funkcję `czy_pierwsza(n)`, która zwraca `True`, jeśli liczba `n` jest pierwsza, w przeciwnym razie `False`."
   ]
  },
  {
   "cell_type": "code",
   "execution_count": null,
   "id": "72070078",
   "metadata": {},
   "outputs": [],
   "source": [
    "def czy_pierwsza(n):\n",
    "    pass\n"
   ]
  },
  {
   "cell_type": "code",
   "execution_count": null,
   "id": "339e3ad1",
   "metadata": {},
   "outputs": [],
   "source": [
    "# Testy\n",
    "assert czy_pierwsza(2) == True\n",
    "assert czy_pierwsza(9) == False\n",
    "assert czy_pierwsza(17) == True\n",
    "print(\"✅ Zadanie 2 działa poprawnie!\")\n"
   ]
  },
  {
   "cell_type": "markdown",
   "id": "8a0eeae5",
   "metadata": {},
   "source": [
    "### 📘 Zadanie 3: Zamiana liczby na system binarny\n",
    "\n",
    "Napisz funkcję `na_binarny(n)`, która zwraca napis będący reprezentacją liczby `n` w systemie binarnym."
   ]
  },
  {
   "cell_type": "code",
   "execution_count": null,
   "id": "d4c0dc2a",
   "metadata": {},
   "outputs": [],
   "source": [
    "def na_binarny(n):\n",
    "    pass\n"
   ]
  },
  {
   "cell_type": "code",
   "execution_count": null,
   "id": "8b5638d4",
   "metadata": {},
   "outputs": [],
   "source": [
    "# Testy\n",
    "assert na_binarny(5) == '101'\n",
    "assert na_binarny(0) == '0'\n",
    "assert na_binarny(15) == '1111'\n",
    "print(\"✅ Zadanie 3 działa poprawnie!\")\n"
   ]
  },
  {
   "cell_type": "markdown",
   "id": "c0d437e6",
   "metadata": {},
   "source": [
    "### 📘 Zadanie 4: Rekurencyjna silnia\n",
    "\n",
    "Napisz funkcję `silnia(n)`, która rekurencyjnie oblicza silnię liczby `n`.\n"
   ]
  },
  {
   "cell_type": "code",
   "execution_count": null,
   "id": "7c5b427f",
   "metadata": {},
   "outputs": [],
   "source": [
    "def silnia(n):\n",
    "    pass\n"
   ]
  },
  {
   "cell_type": "code",
   "execution_count": null,
   "id": "99c91a0e",
   "metadata": {},
   "outputs": [],
   "source": [
    "# Testy\n",
    "assert silnia(0) == 1\n",
    "assert silnia(5) == 120\n",
    "assert silnia(3) == 6\n",
    "print(\"✅ Zadanie 4 działa poprawnie!\")\n"
   ]
  },
  {
   "cell_type": "markdown",
   "id": "5a6d2b7a",
   "metadata": {},
   "source": [
    "### 📘 Zadanie 5: Liczby podzielne przez 3\n",
    "\n",
    "Napisz funkcję `podzielne_przez_3(n)`, która zwraca listę wszystkich liczb od 0 do n włącznie, które są podzielne przez 3."
   ]
  },
  {
   "cell_type": "code",
   "execution_count": null,
   "id": "76b963c2",
   "metadata": {},
   "outputs": [],
   "source": [
    "def podzielne_przez_3(n):\n",
    "    pass\n"
   ]
  },
  {
   "cell_type": "code",
   "execution_count": null,
   "id": "0adf51f2",
   "metadata": {},
   "outputs": [],
   "source": [
    "# Testy\n",
    "assert podzielne_przez_3(10) == [0, 3, 6, 9]\n",
    "assert podzielne_przez_3(2) == [0]\n",
    "assert podzielne_przez_3(0) == [0]\n",
    "print(\"✅ Zadanie 5 działa poprawnie!\")\n"
   ]
  },
  {
   "cell_type": "markdown",
   "id": "57ab52a5",
   "metadata": {},
   "source": [
    "### 📘 Zadanie 6: Odwracanie tekst \n",
    "\n",
    "Napisz funkcję `odwroc_tekst(tekst)`, która zwraca odwrócony tekst (np. 'pies' -> 'seip')."
   ]
  },
  {
   "cell_type": "code",
   "execution_count": null,
   "id": "f35157a9",
   "metadata": {},
   "outputs": [],
   "source": [
    "def odwroc_tekst(tekst):\n",
    "    pass\n"
   ]
  },
  {
   "cell_type": "code",
   "execution_count": null,
   "id": "aea85f09",
   "metadata": {},
   "outputs": [],
   "source": [
    "# Testy\n",
    "assert odwroc_tekst(\"python\") == \"nohtyp\"\n",
    "assert odwroc_tekst(\"a\") == \"a\"\n",
    "assert odwroc_tekst(\"\") == \"\"\n",
    "print(\"✅ Zadanie 6 działa poprawnie!\")\n"
   ]
  },
  {
   "cell_type": "markdown",
   "id": "fdaa0da4",
   "metadata": {},
   "source": [
    "### 📘 Zadanie 7: FizzBuzz\n",
    "\n",
    "Napisz funkcję `fizzbuzz(n)`, która zwraca listę liczb od 1 do n,\n",
    "ale zamiast liczb podzielnych przez 3 wstawia \"Fizz\",\n",
    "zamiast liczb podzielnych przez 5 wstawia \"Buzz\",\n",
    "a jeśli liczba jest podzielna przez 3 i 5, to \"FizzBuzz\".\n"
   ]
  },
  {
   "cell_type": "code",
   "execution_count": null,
   "id": "f971d640",
   "metadata": {},
   "outputs": [],
   "source": [
    "def fizzbuzz(n):\n",
    "    pass\n"
   ]
  },
  {
   "cell_type": "code",
   "execution_count": null,
   "id": "aea109cb",
   "metadata": {},
   "outputs": [],
   "source": [
    "# Testy\n",
    "assert fizzbuzz(5) == [1, 2, \"Fizz\", 4, \"Buzz\"]\n",
    "assert fizzbuzz(1) == [1]\n",
    "assert fizzbuzz(15)[-1] == \"FizzBuzz\"\n",
    "print(\"✅ Zadanie 7 działa poprawnie!\")\n"
   ]
  },
  {
   "cell_type": "markdown",
   "id": "92ba3803",
   "metadata": {},
   "source": [
    "### 📘 Zadanie 8: Liczba wyrazów w zdaniu\n",
    "\n",
    "Napisz funkcję `licz_wyrazy(zdanie)`, która zwraca liczbę wyrazów w danym napisie.\n",
    "Zakładamy, że wyrazy są oddzielone spacjami."
   ]
  },
  {
   "cell_type": "code",
   "execution_count": null,
   "id": "11798985",
   "metadata": {},
   "outputs": [],
   "source": [
    "def licz_wyrazy(zdanie):\n",
    "    pass\n"
   ]
  },
  {
   "cell_type": "code",
   "execution_count": null,
   "id": "5dd96b99",
   "metadata": {},
   "outputs": [],
   "source": [
    "# Testy\n",
    "assert licz_wyrazy(\"Ala ma kota\") == 3\n",
    "assert licz_wyrazy(\"\") == 0\n",
    "assert licz_wyrazy(\"  jeden   dwa  \") == 2\n",
    "print(\"✅ Zadanie 8 działa poprawnie!\")\n"
   ]
  }
 ],
 "metadata": {
  "language_info": {
   "name": "python"
  }
 },
 "nbformat": 4,
 "nbformat_minor": 5
}
