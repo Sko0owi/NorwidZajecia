{
  "cells": [
    {
      "cell_type": "markdown",
      "id": "73sEbn66CbOW",
      "metadata": {
        "id": "73sEbn66CbOW"
      },
      "source": [
        "# 🐍 Listy i pętle `for` w Pythonie\n",
        "W tym notatniku:\n",
        "1. Czym są listy i jakie operacje możemy na nich wykonać\n",
        "2. Pętle `for` na listach\n",
        "3. Pętle `for` z `range()` – liczby, indeksy i inne zastosowania"
      ]
    },
    {
      "cell_type": "markdown",
      "id": "MtaD-sYxCbOX",
      "metadata": {
        "id": "MtaD-sYxCbOX"
      },
      "source": [
        "## 📌 1. Listy i operacje\n",
        "Listy to struktury danych przechowujące wiele elementów.\n",
        "Możemy je modyfikować, sortować, przeszukiwać itd."
      ]
    },
    {
      "cell_type": "markdown",
      "id": "Fyaw8CAUC8vq",
      "metadata": {
        "id": "Fyaw8CAUC8vq"
      },
      "source": [
        "### Deklaracje listy\n",
        "Tworzenie listy w Pythonie jest bardzo proste — wystarczy umieścić dane w nawiasach kwadratowych `[]`, oddzielając je przecinkami.\n",
        "\n",
        "Warto pamiętać, że elementami listy mogą być nie tylko liczby. Python pozwala przechowywać w jednej liście dowolne typy danych: napisy, liczby, a nawet inne listy czy obiekty.\n"
      ]
    },
    {
      "cell_type": "code",
      "execution_count": null,
      "id": "eEsmnp7KDOuc",
      "metadata": {
        "colab": {
          "base_uri": "https://localhost:8080/"
        },
        "id": "eEsmnp7KDOuc",
        "outputId": "a40dd1d0-d8b4-489b-e458-9e7e3dd5ad9c"
      },
      "outputs": [
        {
          "name": "stdout",
          "output_type": "stream",
          "text": [
            "Lista z liczbami [10, 5, 8, 3]\n",
            "Lista ze słowami ['Ala', 'Ma', 'Kota']\n",
            "Lista z liczbami, słowami i listami ['Maja', 2, [2, 3]]\n"
          ]
        }
      ],
      "source": [
        "liczby = [10, 5, 8, 3]\n",
        "słowa = [\"Ala\", \"Ma\", \"Kota\"]\n",
        "liczby_słowa_listy = [\"Maja\", 2, [2, 3]]\n",
        "\n",
        "\n",
        "print(f\"Lista z liczbami {liczby}\")\n",
        "print(f\"Lista ze słowami {słowa}\")\n",
        "print(f\"Lista z liczbami, słowami i listami {liczby_słowa_listy}\")\n"
      ]
    },
    {
      "cell_type": "markdown",
      "id": "pwepEMKyD6Dd",
      "metadata": {
        "id": "pwepEMKyD6Dd"
      },
      "source": [
        "### Podstawowe operacje na listach\n",
        "\n",
        "Sama deklaracja listy to dopiero początek. Żeby programowanie miało sens, trzeba umieć coś z listami robić.\n",
        "\n",
        "Oto najważniejsze i najczęściej używane operacje na listach w Pythonie:\n",
        "\n",
        "- Dodawanie elementu do listy – `lista.append(element)`\n",
        "\n",
        "- Usuwanie elementu z listy – `lista.remove(element)`\n",
        "\n",
        "- Sprawdzanie K-tego elementu – `lista[K]` (pamiętaj, że indeksowanie zaczyna się od zera!)\n",
        "\n",
        "- Sprawdzanie, czy element X znajduje się na liście – `X in lista`\n",
        "\n",
        "- Sprawdzanie długości listy – `len(lista)`\n",
        "\n",
        "- Sortowanie elementów listy – `lista.sort()` (działa dobrze np. dla liczb lub tekstów)\n",
        "\n",
        "Warto eksperymentować z tymi operacjami w interpreterze, żeby dobrze zrozumieć, jak działają i co się dzieje z listą po ich wykonaniu."
      ]
    },
    {
      "cell_type": "code",
      "execution_count": null,
      "id": "GsGm8HMjEO_h",
      "metadata": {
        "id": "GsGm8HMjEO_h"
      },
      "outputs": [
        {
          "name": "stdout",
          "output_type": "stream",
          "text": [
            "Lista po dodaniu: [10, 5, 8, 3, 7]\n",
            "Pierwszy element listy: 10\n",
            "Długość listy: 5\n",
            "Trzeci element listy: 8\n",
            "Czy 10 jest na liście?: True\n",
            "\n",
            "=======================\n",
            "\n",
            "Lista po usunięciu: [5, 8, 3, 7]\n",
            "Pierwszy element listy: 5\n",
            "Długość listy: 4\n",
            "Trzeci element listy: 3\n",
            "Czy 10 jest na liście?: False\n",
            "\n",
            "=======================\n",
            "\n",
            "Lista po posortowaniu: [3, 5, 7, 8]\n"
          ]
        },
        {
          "ename": "IndexError",
          "evalue": "list index out of range",
          "output_type": "error",
          "traceback": [
            "\u001b[31m---------------------------------------------------------------------------\u001b[39m",
            "\u001b[31mIndexError\u001b[39m                                Traceback (most recent call last)",
            "\u001b[36mCell\u001b[39m\u001b[36m \u001b[39m\u001b[32mIn[2]\u001b[39m\u001b[32m, line 27\u001b[39m\n\u001b[32m     22\u001b[39m \u001b[38;5;28mprint\u001b[39m(\u001b[33mf\u001b[39m\u001b[33m\"\u001b[39m\u001b[33mLista po posortowaniu: \u001b[39m\u001b[38;5;132;01m{\u001b[39;00mliczby\u001b[38;5;132;01m}\u001b[39;00m\u001b[33m\"\u001b[39m)\n\u001b[32m     25\u001b[39m \u001b[38;5;66;03m# Co się stanie jak poprosimy o element którego nie ma w liście?\u001b[39;00m\n\u001b[32m---> \u001b[39m\u001b[32m27\u001b[39m \u001b[38;5;28mprint\u001b[39m(\u001b[33mf\u001b[39m\u001b[33m\"\u001b[39m\u001b[33m10 element listy: \u001b[39m\u001b[38;5;132;01m{\u001b[39;00m\u001b[43mliczby\u001b[49m\u001b[43m[\u001b[49m\u001b[32;43m9\u001b[39;49m\u001b[43m]\u001b[49m\u001b[38;5;132;01m}\u001b[39;00m\u001b[33m\"\u001b[39m)\n",
            "\u001b[31mIndexError\u001b[39m: list index out of range"
          ]
        }
      ],
      "source": [
        "liczby = [10, 5, 8, 3]\n",
        "liczby.append(7) # dodawanie na listę\n",
        "\n",
        "print(f\"Lista po dodaniu: {liczby}\")\n",
        "print(f\"Pierwszy element listy: {liczby[0]}\")\n",
        "print(f\"Długość listy: {len(liczby)}\")\n",
        "print(f\"Trzeci element listy: {liczby[2]}\")\n",
        "print(f\"Czy 10 jest na liście?: {10 in liczby}\")\n",
        "\n",
        "liczby.remove(10) # usuwanie z listy \"10\"\n",
        "\n",
        "print(\"\\n=======================\\n\")\n",
        "print(f\"Lista po usunięciu: {liczby}\")\n",
        "print(f\"Pierwszy element listy: {liczby[0]}\")\n",
        "print(f\"Długość listy: {len(liczby)}\")\n",
        "print(f\"Trzeci element listy: {liczby[2]}\")\n",
        "print(f\"Czy 10 jest na liście?: {10 in liczby}\")\n",
        "\n",
        "liczby.sort()\n",
        "\n",
        "print(\"\\n=======================\\n\")\n",
        "print(f\"Lista po posortowaniu: {liczby}\")\n",
        "\n",
        "\n",
        "# Co się stanie jak poprosimy o element którego nie ma w liście?\n",
        "\n",
        "print(f\"10 element listy: {liczby[9]}\")"
      ]
    },
    {
      "cell_type": "code",
      "execution_count": 25,
      "id": "1c546378",
      "metadata": {},
      "outputs": [
        {
          "name": "stdout",
          "output_type": "stream",
          "text": [
            "3\n",
            "[5, 20]\n"
          ]
        }
      ],
      "source": [
        "liczby = [10, 5, 20, 4, 3]\n",
        "\n",
        "# Błąd?\n",
        "print(liczby[-1])\n",
        "\n",
        "# Co to robi?\n",
        "print(liczby[1:3])\n"
      ]
    },
    {
      "cell_type": "markdown",
      "id": "18TLA-m8CbOZ",
      "metadata": {
        "id": "18TLA-m8CbOZ"
      },
      "source": [
        "## 🔁 2. Pętle `for` na listach\n",
        "Struktura pętli for wygląda następująco\n",
        "```py\n",
        "  for element_listy in lista:\n",
        "    # KOD np\n",
        "    print(element_listy)\n",
        "\n",
        "```\n",
        "\n",
        "Warto zauważyć dwukropek po liście oraz wcięcie które jest po `forze`, Python go WYMAGA inaczej nie będzie wam działać :C "
      ]
    },
    {
      "cell_type": "code",
      "execution_count": null,
      "id": "F1OVfhb7CbOZ",
      "metadata": {
        "colab": {
          "base_uri": "https://localhost:8080/"
        },
        "id": "F1OVfhb7CbOZ",
        "outputId": "246ebe67-a790-47be-f41f-7d24f9b1894e"
      },
      "outputs": [
        {
          "name": "stdout",
          "output_type": "stream",
          "text": [
            "Bardzo lubię jabłko\n",
            "Bardzo lubię banana\n",
            "Bardzo lubię gruszkę\n"
          ]
        }
      ],
      "source": [
        "owoce = [\"jabłko\", \"banana\", \"gruszkę\"]\n",
        "for owoc in owoce:\n",
        "    print(f\"Bardzo lubię {owoc}\")"
      ]
    },
    {
      "cell_type": "markdown",
      "id": "u1SMX2gwCbOa",
      "metadata": {
        "id": "u1SMX2gwCbOa"
      },
      "source": [
        "## 🔁 3. Pętle `for` z `range()`\n",
        "`range()` daje liczby – przydatne do indeksów i iteracji określoną liczbę razy.\n",
        "Warto wiedzieć o paru możliwościach użycia `range()`:\n",
        "- wywołanie `range(N)` wygeneruje nam przedział `[0, N-1]`\n",
        "- wywołanie `range(A,B)` wygeneruje nam przedział `[A, B-1]`\n",
        "- wywołanie `range(A,B,C)` wygeneruje nam przedział `[A,B-1]` z pominiętą co `C`-tą liczbą "
      ]
    },
    {
      "cell_type": "code",
      "execution_count": null,
      "id": "317c73cd",
      "metadata": {},
      "outputs": [
        {
          "name": "stdout",
          "output_type": "stream",
          "text": [
            "0, 1, 2, 3, 4, \n",
            "=======================\n",
            "\n",
            "15, 16, 17, 18, 19, \n",
            "=======================\n",
            "\n",
            "15, 17, 19, \n",
            "=======================\n",
            "\n",
            "Bardzo lubię jabłko i jest to 1 owoc na liście\n",
            "Bardzo lubię banana i jest to 2 owoc na liście\n",
            "Bardzo lubię gruszkę i jest to 3 owoc na liście\n"
          ]
        }
      ],
      "source": [
        "for i in range(5):\n",
        "    print(f\"{i},\" , end=\" \")\n",
        "\n",
        "print(\"\\n=======================\\n\")\n",
        "\n",
        "for i in range(15, 20):\n",
        "    print(f\"{i},\" , end=\" \")\n",
        "\n",
        "print(\"\\n=======================\\n\")\n",
        "\n",
        "for i in range(15, 20, 2):\n",
        "    print(f\"{i},\" , end=\" \")\n",
        "\n",
        "print(\"\\n=======================\\n\")\n",
        "\n",
        "owoce = [\"jabłko\", \"banan\", \"gruszka\"]\n",
        "for i in range(len(owoce)):\n",
        "    print(f\"Bardzo lubię {owoce[i]} i jest to {i+1} owoc na liście\")\n"
      ]
    },
    {
      "cell_type": "code",
      "execution_count": 9,
      "id": "7f0d80b7",
      "metadata": {},
      "outputs": [],
      "source": [
        "for i in range(-2):\n",
        "    print(f\"{i},\" , end=\" \")"
      ]
    },
    {
      "cell_type": "code",
      "execution_count": 11,
      "id": "13657b32",
      "metadata": {},
      "outputs": [
        {
          "name": "stdout",
          "output_type": "stream",
          "text": [
            "-2, -1, 0, 1, "
          ]
        }
      ],
      "source": [
        "for i in range(-2, 2):\n",
        "    print(f\"{i},\" , end=\" \")\n"
      ]
    },
    {
      "cell_type": "code",
      "execution_count": 16,
      "id": "b2c64eef",
      "metadata": {},
      "outputs": [],
      "source": [
        "for i in range (10, 20, -1):\n",
        "    print(f\"{i}\", end=\"\")"
      ]
    },
    {
      "cell_type": "code",
      "execution_count": 15,
      "id": "cd65596d",
      "metadata": {},
      "outputs": [
        {
          "name": "stdout",
          "output_type": "stream",
          "text": [
            "20, 19, 18, 17, 16, 15, 14, 13, 12, 11, "
          ]
        }
      ],
      "source": [
        "for i in range(20, 10, -1):\n",
        "    print(f\"{i},\" , end=\" \")"
      ]
    }
  ],
  "metadata": {
    "colab": {
      "provenance": []
    },
    "kernelspec": {
      "display_name": "Python 3",
      "language": "python",
      "name": "python3"
    },
    "language_info": {
      "codemirror_mode": {
        "name": "ipython",
        "version": 3
      },
      "file_extension": ".py",
      "mimetype": "text/x-python",
      "name": "python",
      "nbconvert_exporter": "python",
      "pygments_lexer": "ipython3",
      "version": "3.11.11"
    }
  },
  "nbformat": 4,
  "nbformat_minor": 5
}
