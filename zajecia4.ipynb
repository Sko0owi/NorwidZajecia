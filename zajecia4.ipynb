{
 "cells": [
  {
   "cell_type": "markdown",
   "id": "0ed240e5",
   "metadata": {},
   "source": [
    "# System binarny (dwójkowy) – Wprowadzenie\n",
    "\n",
    "Witaj! Dziś poznamy system binarny, który jest podstawą działania komputerów.\n",
    "\n",
    "System binarny to system liczbowy, który używa tylko dwóch cyfr: **0** i **1**.\n",
    "\n",
    "## Dlaczego system binarny?\n",
    "\n",
    "Zanim przejdziemy do nauki systemu binarnego, warto odpowiedzieć na pytanie:\n",
    "\n",
    "### Dlaczego komputery używają systemu dwójkowego?\n",
    "\n",
    "Komputery są zbudowane z milionów malutkich przełączników, które mogą być tylko w jednym z dwóch stanów:\n",
    "- **0** – wyłączony (brak napięcia),\n",
    "- **1** – włączony (jest napięcie).\n",
    "\n",
    "Tylko dwa stany? To idealne dla systemu binarnego!\n",
    "\n",
    "### Zalety systemu binarnego:\n",
    "- **Prostota** – łatwo zbudować urządzenia, które rozpoznają tylko dwa stany.\n",
    "- **Niezawodność** – mniej podatne na błędy niż systemy z większą liczbą stanów.\n",
    "- **Szybkość** – operacje na bitach (czyli 0 i 1) są bardzo szybkie.\n",
    "\n",
    "Dlatego właśnie **komputery \"myślą\" w systemie dwójkowym**, a my – ludzie – musimy czasem nauczyć się zamieniać liczby między naszym systemem dziesiętnym a binarnym.\n",
    "\n",
    "\n",
    "## Przykład:\n",
    "- W systemie dziesiętnym (którego używamy na co dzień) mamy cyfry od 0 do 9.\n",
    "- W systemie binarnym – tylko 0 i 1!\n",
    "\n",
    "Każda pozycja w liczbie binarnej reprezentuje potęgę liczby 2:\n",
    "- `1` → 2⁰ = 1\n",
    "- `10` → 2¹ = 2\n",
    "- `11` → 2¹ + 2⁰ = 2 + 1 = 3\n",
    "- `100` → 2² = 4\n",
    "\n",
    "Zobaczmy, jak zamieniać liczby między tymi systemami.\n"
   ]
  },
  {
   "cell_type": "markdown",
   "id": "61a7064d",
   "metadata": {},
   "source": [
    "## Zamiana liczby dziesiętnej na binarną\n",
    "\n",
    "Aby zamienić liczbę z systemu dziesiętnego na binarny, dzielimy ją przez 2 i zapisujemy reszty z dzielenia od końca.\n",
    "\n",
    "### Przykład:\n",
    "Zamieńmy liczbę **13** na binarną:\n",
    "\n",
    "1. 13 ÷ 2 = 6 reszta **1**  \n",
    "2. 6 ÷ 2 = 3 reszta **0**  \n",
    "3. 3 ÷ 2 = 1 reszta **1**  \n",
    "4. 1 ÷ 2 = 0 reszta **1**\n",
    "\n",
    "Odczytując reszty od końca: **1101**\n",
    "\n",
    "Czyli: `13 (dziesiętnie) = 1101 (binarnie)`\n"
   ]
  },
  {
   "cell_type": "code",
   "execution_count": 5,
   "id": "1bd149e1",
   "metadata": {},
   "outputs": [
    {
     "name": "stdout",
     "output_type": "stream",
     "text": [
      "0 -> 0\n",
      "1 -> 1\n",
      "2 -> 10\n",
      "3 -> 11\n",
      "4 -> 100\n",
      "5 -> 101\n",
      "6 -> 110\n",
      "7 -> 111\n",
      "8 -> 1000\n",
      "9 -> 1001\n",
      "10 -> 1010\n",
      "11 -> 1011\n",
      "12 -> 1100\n",
      "13 -> 1101\n",
      "14 -> 1110\n",
      "15 -> 1111\n"
     ]
    }
   ],
   "source": [
    "def dziesietna_na_binarna(liczba):\n",
    "    return bin(liczba)[2:]\n",
    "\n",
    "# Przykład\n",
    "for i in range(16):\n",
    "    print(f\"{i} -> {dziesietna_na_binarna(i)}\")\n"
   ]
  },
  {
   "cell_type": "markdown",
   "id": "0e85756e",
   "metadata": {},
   "source": [
    "## Zamiana liczby binarnej na dziesiętną\n",
    "\n",
    "Każdą cyfrę mnożymy przez odpowiednią potęgę liczby 2 i sumujemy wyniki.\n",
    "\n",
    "### Przykład:\n",
    "Zamieńmy `1011` na system dziesiętny:\n",
    "\n",
    "- 1×2³ + 0×2² + 1×2¹ + 1×2⁰ = 8 + 0 + 2 + 1 = **11**\n",
    "\n",
    "Czyli: `1011 (binarnie) = 11 (dziesiętnie)`\n"
   ]
  },
  {
   "cell_type": "code",
   "execution_count": null,
   "id": "ad237afc",
   "metadata": {},
   "outputs": [],
   "source": [
    "def binarna_na_dziesietna(binarna):\n",
    "    return int(binarna, 2)\n",
    "\n",
    "# Przykład\n",
    "print(binarna_na_dziesietna(\"1011\"))  # powinno dać 11\n",
    "print(binarna_na_dziesietna(\"1101\"))  # powinno dać 13\n"
   ]
  },
  {
   "cell_type": "markdown",
   "id": "e6aaeda4",
   "metadata": {},
   "source": [
    "## Zadanie dla Ciebie 🎯\n",
    "\n",
    "1. Zamień liczbę `19` na zapis binarny.\n",
    "2. Zamień liczbę `10110` z systemu binarnego na dziesiętny.\n",
    "3. Zamień liczby od `20` do `30` na system binarny (możesz użyć pętli w Pythonie).\n"
   ]
  },
  {
   "cell_type": "code",
   "execution_count": null,
   "id": "f75c6c61",
   "metadata": {},
   "outputs": [
    {
     "name": "stdout",
     "output_type": "stream",
     "text": [
      "1101\n",
      "11\n",
      "11001\n",
      "[13, 3, 25]\n",
      "41\n",
      "101001\n"
     ]
    }
   ],
   "source": [
    "# Przykładowe zadanie\n",
    "# Zadanie: Zsumuj liczby zapisane w systemie binarnym i wypisz wynik w systemie binarnym\n",
    "\n",
    "\n",
    "liczby = [\"1101\", \"11\", \"11001\"]\n",
    "\n",
    "\n",
    "liczby_normalne = []\n",
    "for liczba in liczby: \n",
    "    print(liczba)\n",
    "    liczby_normalne.append(int(liczba, 2))\n",
    "\n",
    "print(liczby_normalne)\n",
    "\n",
    "suma_liczb = 0\n",
    "for liczba in liczby_normalne:\n",
    "    suma_liczb = suma_liczb + liczba\n",
    "\n",
    "print(suma_liczb)\n",
    "\n",
    "suma_liczb_binarnie = bin(suma_liczb)[2:]\n",
    "\n",
    "print(suma_liczb_binarnie)\n",
    "\n"
   ]
  }
 ],
 "metadata": {
  "kernelspec": {
   "display_name": "Python 3",
   "language": "python",
   "name": "python3"
  },
  "language_info": {
   "codemirror_mode": {
    "name": "ipython",
    "version": 3
   },
   "file_extension": ".py",
   "mimetype": "text/x-python",
   "name": "python",
   "nbconvert_exporter": "python",
   "pygments_lexer": "ipython3",
   "version": "3.11.11"
  }
 },
 "nbformat": 4,
 "nbformat_minor": 5
}
