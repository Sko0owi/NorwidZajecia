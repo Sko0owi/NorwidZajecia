{
 "cells": [
  {
   "cell_type": "code",
   "execution_count": null,
   "id": "01d52eac",
   "metadata": {},
   "outputs": [],
   "source": [
    "# Zadanie 1: Napisz funkcję która zwraca liczbę województ w polsce\n",
    "#            Niech funkcja się nazywa \"ile_wojewodztw\"\n",
    "\n",
    "# tutaj napisz funkcję\n",
    "\n",
    "def test_zadanie_1():\n",
    "    assert ile_wojewodztw() == 16\n",
    "\n",
    "test_zadanie_1()"
   ]
  },
  {
   "cell_type": "code",
   "execution_count": null,
   "id": "109242b5",
   "metadata": {},
   "outputs": [],
   "source": [
    "# Zadanie 2: Napisz funkcję która przyjmuje liczbę jako argument\n",
    "#            i zwraca jej trzykrotność\n",
    "#            Niech funkcja nazywa się \"trzykrotnosc\"\n",
    "\n",
    "# tutaj napisz funkcję\n",
    "\n",
    "def test_zadanie_2():\n",
    "    assert trzykrotnosc(5) == 15\n",
    "    assert trzykrotnosc(20) == 60\n",
    "\n",
    "test_zadanie_2()"
   ]
  },
  {
   "cell_type": "code",
   "execution_count": null,
   "id": "6a883ae3",
   "metadata": {},
   "outputs": [],
   "source": [
    "# Zadanie 3: Napisz funkcję która przyjmuje 2 liczby jako argumenty\n",
    "#            i zwraca ich iloraz\n",
    "#            Niech funkcja nazywa się \"podziel\"\n",
    "\n",
    "\n",
    "# tutaj napisz funkcję\n",
    "\n",
    "def test_zadanie_3():\n",
    "    assert podziel(15, 3) == 5\n",
    "    assert podziel(60, 5) == 12\n",
    "\n",
    "test_zadanie_3()"
   ]
  },
  {
   "cell_type": "code",
   "execution_count": null,
   "id": "ac6bac23",
   "metadata": {},
   "outputs": [],
   "source": [
    "# Zadanie 4: Napisz funkcję typu \"void\" bez argumentów i niech doda ona do zmiennej globalnej\n",
    "#            \"owoce\": \"jabłko\" i \"banan\"\n",
    "#            Niech funkcja nazywa się \"dodaj_do_owocow\"\n",
    "\n",
    "owoce = []\n",
    "\n",
    "\n",
    "# tutaj napisz funkcję\n",
    "\n",
    "def test_zadanie_4():\n",
    "    owoce.clear()\n",
    "    dodaj_do_owocow()\n",
    "    assert owoce.count(\"jabłko\") == 1\n",
    "    assert owoce.count(\"banan\") == 1\n",
    "\n",
    "test_zadanie_4()"
   ]
  },
  {
   "cell_type": "code",
   "execution_count": null,
   "id": "ce82d214",
   "metadata": {},
   "outputs": [],
   "source": [
    "# Zadanie 5: Napisz funkcję która przyjmuje liczbę n a następnie\n",
    "#            zwraca ona listę składającą się z liczb od 1 do n\n",
    "#            Niech funkcja nazywa się \"liczby\"\n",
    "\n",
    "\n",
    "# tutaj napisz funkcję\n",
    "\n",
    "def test_zadanie_5():\n",
    "    assert liczby(5) == [ 1, 2, 3, 4, 5 ]\n",
    "    assert liczby(8) == [ 1, 2, 3, 4, 5, 6, 7, 8 ]\n",
    "\n",
    "test_zadanie_5()"
   ]
  },
  {
   "cell_type": "code",
   "execution_count": null,
   "id": "7071fbba",
   "metadata": {},
   "outputs": [],
   "source": [
    "# Zadanie 6: Napisz funkcję która przyjmuje liczbę n a następnie\n",
    "#            zwraca ona listę składającą się z liczb od 1 do n^2\n",
    "#            Niech funkcja nazywa się \"liczby\"\n",
    "\n",
    "\n",
    "# tutaj napisz funkcję\n",
    "\n",
    "def test_zadanie_6():\n",
    "    assert liczby(3) == [ 1, 2, 3, 4, 5, 6, 7, 8, 9 ]\n",
    "\n",
    "test_zadanie_6()"
   ]
  },
  {
   "cell_type": "code",
   "execution_count": null,
   "id": "b17aefdf",
   "metadata": {},
   "outputs": [],
   "source": [
    "# Zadanie 7: Napisz funkcję rekurencyjną z jednym argumentem, która wypisze na ekranie\n",
    "#            liczby od 1 do n\n",
    "#            Niech funkcja nazywa się \"liczby_rek\"\n",
    "\n",
    "\n",
    "# tutaj napisz funkcję\n",
    "\n",
    "def test_zadanie_7():\n",
    "    liczby_rek(7)\n",
    "\n",
    "test_zadanie_7()"
   ]
  },
  {
   "cell_type": "code",
   "execution_count": null,
   "id": "199ef3a5",
   "metadata": {},
   "outputs": [
    {
     "name": "stdout",
     "output_type": "stream",
     "text": [
      "262144\n",
      "8\n"
     ]
    }
   ],
   "source": [
    "# Zadanie 8: Napisz funkcję rekurencyjną, która policzy \"rozszerzoną\" wersję liczb fibonacciego\n",
    "#            Tzn niech zwróci ona n'ty element ciągu, gdzie każda liczb to suma wszystkich poprzednich (1 do n)\n",
    "#            Jeżeli n <= 2, to niech element = 1\n",
    "#            Niech funkcja nazywa się \"fibonacci_roz\"\n",
    "\n",
    "\n",
    "# tutaj napisz funkcję\n",
    "\n",
    "def test_zadanie_8():\n",
    "    assert fibonacci_roz(20) == 262144\n",
    "    assert fibonacci_roz(5) == 8\n",
    "\n",
    "test_zadanie_8()"
   ]
  },
  {
   "cell_type": "code",
   "execution_count": null,
   "id": "c6bb8aec",
   "metadata": {},
   "outputs": [],
   "source": [
    "# Zadanie 9: Napraw poniższą funkcję tak, aby nie działała w nieskończoność\n",
    "\n",
    "def krzyk():\n",
    "    print(\"a\")\n",
    "\n",
    "krzyk()"
   ]
  },
  {
   "cell_type": "code",
   "execution_count": null,
   "id": "00a26c9b",
   "metadata": {},
   "outputs": [],
   "source": [
    "# Zadanie 10: Napisz funkcję rekurencyjną, która przyjmuje listę\n",
    "#             i zwraca ją w odwrotnej kolejności\n",
    "#             Niech funkcjan nazywa się \"odwroc\"\n",
    "\n",
    "# tutaj napisz funkcję\n",
    "\n",
    "def test_zadanie_10():\n",
    "    assert odwroc( [1, 2, 3, 4]) == [4, 3, 2, 1]\n",
    "\n",
    "test_zadanie_10()"
   ]
  },
  {
   "cell_type": "code",
   "execution_count": null,
   "id": "3ec6ea5f",
   "metadata": {},
   "outputs": [],
   "source": [
    "# Zadanie 11: Napisz funkcję rekurencyjną, która obliczy\n",
    "#             n'tą liczbę trójkątną (musisz poszukać w internecie co to :)))\n",
    "#             Niech funkcja nazywa się \"trojkatne\"\n",
    "\n",
    "# tutaj napisz funkcję\n",
    "\n",
    "def test_zadanie_11():\n",
    "    assert trojkatne(5) == 15\n",
    "    assert trojkatne(4) == 10\n",
    "\n",
    "test_zadanie_11()"
   ]
  }
 ],
 "metadata": {
  "kernelspec": {
   "display_name": "Python 3",
   "language": "python",
   "name": "python3"
  },
  "language_info": {
   "codemirror_mode": {
    "name": "ipython",
    "version": 3
   },
   "file_extension": ".py",
   "mimetype": "text/x-python",
   "name": "python",
   "nbconvert_exporter": "python",
   "pygments_lexer": "ipython3",
   "version": "3.13.0"
  }
 },
 "nbformat": 4,
 "nbformat_minor": 5
}
