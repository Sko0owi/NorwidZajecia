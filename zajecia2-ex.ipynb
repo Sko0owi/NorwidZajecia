{
 "cells": [
  {
   "cell_type": "code",
   "execution_count": null,
   "id": "129be33d",
   "metadata": {},
   "outputs": [],
   "source": [
    "# Zadanie 1: Suma liczb w liście\n",
    "def suma_liczb(numbers):\n",
    "    pass \n",
    "def test_zadanie_1():\n",
    "    assert suma_liczb([1, 2, 3, 4, 5]) == 15\n",
    "    assert suma_liczb([]) == 0\n",
    "    assert suma_liczb([-1, -2, -3]) == -6\n",
    "    assert suma_liczb([0, 0, 0]) == 0\n",
    "    print(\"Zadanie 1: Testy zaliczone\")\n",
    "\n",
    "test_zadanie_1()"
   ]
  },
  {
   "cell_type": "code",
   "execution_count": null,
   "id": "9480d8ef",
   "metadata": {},
   "outputs": [],
   "source": [
    "# Zadanie 2: Zwróć w liście tylko liczby parzyste\n",
    "def liczby_parzyste(numbers):\n",
    "    pass\n",
    "\n",
    "def test_zadanie_2():\n",
    "    assert liczby_parzyste([10, 15, 20, 25, 30, 35]) == [10, 20, 30]\n",
    "    assert liczby_parzyste([1, 3, 5]) == []\n",
    "    assert liczby_parzyste([-2, -4, -6]) == [-2, -4, -6]\n",
    "    assert liczby_parzyste([0]) == [0]\n",
    "    print(\"Zadanie 2: Testy zaliczone\")\n",
    "\n",
    "test_zadanie_2()"
   ]
  },
  {
   "cell_type": "code",
   "execution_count": null,
   "id": "29e05363",
   "metadata": {},
   "outputs": [],
   "source": [
    "# Zadanie 3: Podnieś liczby podane w liście do kwadratu (i zwróć listę z tymi kwadratami)\n",
    "def kwadraty_liczb(numbers):\n",
    "    pass\n",
    "\n",
    "def test_zadanie_3():\n",
    "    assert kwadraty_liczb([2, 3, 4, 5]) == [4, 9, 16, 25]\n",
    "    assert kwadraty_liczb([]) == []\n",
    "    assert kwadraty_liczb([-1, -2, -3]) == [1, 4, 9]\n",
    "    assert kwadraty_liczb([0]) == [0]\n",
    "    print(\"Zadanie 3: Testy zaliczone\")\n",
    "\n",
    "test_zadanie_3()"
   ]
  },
  {
   "cell_type": "code",
   "execution_count": null,
   "id": "59d1bd8c",
   "metadata": {},
   "outputs": [],
   "source": [
    "# Zadanie 4: Odwróć kolejność listy\n",
    "def odwroc_liste(numbers):\n",
    "    pass\n",
    "\n",
    "def test_zadanie_4():\n",
    "    assert odwroc_liste([1, 2, 3, 4, 5]) == [5, 4, 3, 2, 1]\n",
    "    assert odwroc_liste([]) == []\n",
    "    assert odwroc_liste([1]) == [1]\n",
    "    assert odwroc_liste([1, -2, 3]) == [3, -2, 1]\n",
    "    print(\"Zadanie 4: Testy zaliczone\")\n",
    "\n",
    "\n",
    "test_zadanie_4()\n"
   ]
  },
  {
   "cell_type": "code",
   "execution_count": null,
   "id": "f17b3c47",
   "metadata": {},
   "outputs": [],
   "source": [
    "# Zadanie 5: Filtracja liczb większych od 10\n",
    "def liczby_wieksze_od_10(numbers):\n",
    "    pass\n",
    "\n",
    "def test_zadanie_5():\n",
    "    assert liczby_wieksze_od_10([5, 12, 7, 18, 3, 21]) == [12, 18, 21]\n",
    "    assert liczby_wieksze_od_10([1, 2, 3]) == []\n",
    "    assert liczby_wieksze_od_10([10, 11, 12]) == [11, 12]\n",
    "    assert liczby_wieksze_od_10([-5, -10, 15]) == [15]\n",
    "    print(\"Zadanie 5: Testy zaliczone\")\n",
    "\n",
    "\n",
    "test_zadanie_5()"
   ]
  },
  {
   "cell_type": "code",
   "execution_count": null,
   "id": "54ffb9e2",
   "metadata": {},
   "outputs": [],
   "source": [
    "# Zadanie 6: Sprawdź, czy \"element\" jest w liście\n",
    "def czy_liczba_w_liscie(numbers, element):\n",
    "    pass\n",
    "\n",
    "def test_zadanie_6():\n",
    "    assert czy_liczba_w_liscie([1, 2, 3, 4, 5], 3) is True\n",
    "    assert czy_liczba_w_liscie([1, 2, 3, 4, 5], 6) is False\n",
    "    assert czy_liczba_w_liscie([], 1) is False\n",
    "    assert czy_liczba_w_liscie([0, -1, -2], -1) is True\n",
    "    print(\"Zadanie 6: Testy zaliczone\")\n",
    "\n",
    "test_zadanie_6()"
   ]
  },
  {
   "cell_type": "code",
   "execution_count": null,
   "id": "27f35b9a",
   "metadata": {},
   "outputs": [],
   "source": [
    "# Zadanie 7: Liczba wystąpień \"element\" w liście \n",
    "def liczba_wystapien(numbers, element):\n",
    "    pass\n",
    "\n",
    "def test_zadanie_7():\n",
    "    assert liczba_wystapien([1, 2, 2, 3, 4, 4, 4, 5], 4) == 3\n",
    "    assert liczba_wystapien([1, 2, 3], 5) == 0\n",
    "    assert liczba_wystapien([], 1) == 0\n",
    "    assert liczba_wystapien([1, 1, 1, 1], 1) == 4\n",
    "    print(\"Zadanie 7: Testy zaliczone\")\n",
    "\n",
    "test_zadanie_7()\n"
   ]
  },
  {
   "cell_type": "code",
   "execution_count": null,
   "id": "7c49a6f5",
   "metadata": {},
   "outputs": [],
   "source": [
    "# Zadanie 8: Znajdź największą liczbę z listy\n",
    "def znajdz_najwieksza(numbers):\n",
    "    pass\n",
    "\n",
    "def test_zadanie_8():\n",
    "    assert znajdz_najwieksza([3, 7, 2, 8, 5, 10]) == 10\n",
    "    assert znajdz_najwieksza([]) is None\n",
    "    assert znajdz_najwieksza([-1, -2, -3]) == -1\n",
    "    assert znajdz_najwieksza([0]) == 0\n",
    "    print(\"Zadanie 8: Testy zaliczone\")\n",
    "\n",
    "test_zadanie_8()"
   ]
  },
  {
   "cell_type": "code",
   "execution_count": null,
   "id": "116559ee",
   "metadata": {},
   "outputs": [],
   "source": [
    "# Zadanie 9: Połącz dwie listy\n",
    "def polacz_listy(list1, list2):\n",
    "    pass\n",
    "\n",
    "def test_zadanie_9():\n",
    "    assert polacz_listy([1, 2, 3], [4, 5, 6]) == [1, 2, 3, 4, 5, 6]\n",
    "    assert polacz_listy([], [1, 2]) == [1, 2]\n",
    "    assert polacz_listy([], []) == []\n",
    "    assert polacz_listy([1], [2]) == [1, 2]\n",
    "    print(\"Zadanie 9: Testy zaliczone\")\n",
    "\n",
    "test_zadanie_9()"
   ]
  },
  {
   "cell_type": "code",
   "execution_count": null,
   "id": "f0d91218",
   "metadata": {},
   "outputs": [],
   "source": [
    "# Zadanie 10: Usuń duplikaty w liście\n",
    "def usun_duplikaty(numbers):\n",
    "    pass\n",
    "\n",
    "def test_zadanie_10():\n",
    "    assert sorted(usun_duplikaty([1, 2, 2, 3, 4, 4, 5])) == [1, 2, 3, 4, 5]\n",
    "    assert usun_duplikaty([]) == []\n",
    "    assert sorted(usun_duplikaty([1, 1, 1, 1])) == [1]\n",
    "    assert sorted(usun_duplikaty([1, -1, 1, -1])) == [-1, 1]\n",
    "    print(\"Zadanie 10: Testy zaliczone\")\n",
    "\n",
    "test_zadanie_10()"
   ]
  }
 ],
 "metadata": {
  "kernelspec": {
   "display_name": "Python 3",
   "language": "python",
   "name": "python3"
  },
  "language_info": {
   "codemirror_mode": {
    "name": "ipython",
    "version": 3
   },
   "file_extension": ".py",
   "mimetype": "text/x-python",
   "name": "python",
   "nbconvert_exporter": "python",
   "pygments_lexer": "ipython3",
   "version": "3.11.11"
  }
 },
 "nbformat": 4,
 "nbformat_minor": 5
}
