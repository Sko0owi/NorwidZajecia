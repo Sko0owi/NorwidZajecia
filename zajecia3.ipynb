{
  "cells": [
    {
      "cell_type": "markdown",
      "id": "73sEbn66CbOW",
      "metadata": {
        "id": "73sEbn66CbOW"
      },
      "source": [
        "# Funkcje i rekurencja w Pythonie\n",
        "W tym notatniku:\n",
        "1. Co to *funkcja* i jak można je wykorzystywać\n",
        "2. Jak działa *rekurencja*\n",
        "3. Używanie funkcji rekurencyjnych do rozwiązywania zadań"
      ]
    },
    {
      "cell_type": "markdown",
      "id": "MtaD-sYxCbOX",
      "metadata": {
        "id": "MtaD-sYxCbOX"
      },
      "source": [
        "## 1. Funkcja\n",
        "Funkcja to taka *maszynka*  — może on przyjąć jakieś *argumenty* i *zwrócić* jakiś wynik.\n",
        "Możemy napisać co taka funkcja ma zrobić i używać ją kilkukrotnie."
      ]
    },
    {
      "cell_type": "markdown",
      "id": "Fyaw8CAUC8vq",
      "metadata": {
        "id": "Fyaw8CAUC8vq"
      },
      "source": [
        "### Deklaracja funkcji\n",
        "Deklarowanie funkcji w Pythonie jest względnie proste.\n",
        "- `def` jako słowo klucz oznaczające rozpoczęcie deklaracji funkcji\n",
        "- podajemy *nazwę* funkcji\n",
        "- następnie nawiasy w których możemy określić jakie argumenty nasza funkcja ma przyjmować\n",
        "- na końcu dwukropek oznaczający rozpoczęcie zawartości funkcji\n",
        "\n",
        "To co funkcja przyjmuje i wraca może być dowolnymi danymi. Aby użyć funkcję należy ją *wywołać* z danymi argumentami.\n",
        "\n",
        "Wynik funkcji możemy używać dowoli: przypisać do zmiennej, dodać do listy itp.\n"
      ]
    },
    {
      "cell_type": "code",
      "execution_count": null,
      "id": "eEsmnp7KDOuc",
      "metadata": {
        "colab": {
          "base_uri": "https://localhost:8080/"
        },
        "id": "eEsmnp7KDOuc",
        "outputId": "a40dd1d0-d8b4-489b-e458-9e7e3dd5ad9c"
      },
      "outputs": [
        {
          "name": "stdout",
          "output_type": "stream",
          "text": [
            "Wynik mojej funkcji: 1\n",
            "Wynik mojej funkcji z argumentem: 4\n"
          ]
        }
      ],
      "source": [
        "def moja_funkcja():\n",
        "    return 1\n",
        "\n",
        "print(f\"Wynik mojej funkcji: {moja_funkcja()}\")\n",
        "\n",
        "# Przyjmuje liczbę jako argument, a potem ją zwraca\n",
        "def moja_funkcja_z_argumentem(x : int):\n",
        "    return x\n",
        "\n",
        "print(f\"Wynik mojej funkcji z argumentem: { moja_funkcja_z_argumentem(4) }\")\n"
      ]
    },
    {
      "cell_type": "markdown",
      "id": "pwepEMKyD6Dd",
      "metadata": {
        "id": "pwepEMKyD6Dd"
      },
      "source": [
        "### Przykłady funkcji\n",
        "\n",
        "No dobrze, mamy jakieś funkcje ale te przykłady które podałem są raczej mało przydatne. Może popatrzmy na jakieś ciekawsze?"
      ]
    },
    {
      "cell_type": "code",
      "execution_count": 6,
      "id": "GsGm8HMjEO_h",
      "metadata": {
        "id": "GsGm8HMjEO_h"
      },
      "outputs": [
        {
          "name": "stdout",
          "output_type": "stream",
          "text": [
            "Dodanie dwóch jedynek: 2\n",
            "Suma elementów z listy moja_lista: 10\n",
            "2 podniesione do 32 potęgi: 4294967296\n"
          ]
        }
      ],
      "source": [
        "\n",
        "# Suma dwóch liczb\n",
        "def add_numbers(x : int, y : int):\n",
        "    return x + y\n",
        "\n",
        "print(f\"Dodanie dwóch jedynek: { add_numbers(1, 1) }\")\n",
        "\n",
        "\n",
        "\n",
        "# Sumowanie elementów z listy\n",
        "def sum_list(ls : list):\n",
        "    sum = 0\n",
        "    for x in ls:\n",
        "        sum += x\n",
        "    return sum\n",
        "\n",
        "moja_lista = [ 1, 2, 3, 4 ]\n",
        "\n",
        "suma_listy = sum_list(moja_lista)\n",
        "\n",
        "print(f\"Suma elementów z listy moja_lista: {suma_listy}\")\n",
        "\n",
        "\n",
        "# Funkcja do potęgowania\n",
        "def do_potegi(x : int, y : int):\n",
        "    wynik = 1\n",
        "    for i in range(0, y):\n",
        "        wynik = wynik * x\n",
        "    return wynik \n",
        "\n",
        "print(f\"2 podniesione do 32 potęgi: {do_potegi(2, 32)}\")\n"
      ]
    },
    {
      "cell_type": "markdown",
      "id": "cd3afb76",
      "metadata": {},
      "source": [
        "A co jeśli nie zwrócimy nic?"
      ]
    },
    {
      "cell_type": "code",
      "execution_count": null,
      "id": "04b8b9bc",
      "metadata": {},
      "outputs": [
        {
          "name": "stdout",
          "output_type": "stream",
          "text": [
            "Wynik funkcji bez return: None\n"
          ]
        }
      ],
      "source": [
        "def funkcja_bez_return():\n",
        "    x = 4\n",
        "    # bez return?\n",
        "\n",
        "wynik = funkcja_bez_return() # ?\n",
        "\n",
        "print(f\"Wynik funkcji bez return: {wynik}\")"
      ]
    },
    {
      "cell_type": "markdown",
      "id": "0f464ec2",
      "metadata": {},
      "source": [
        "Funkcję bez *return*'a nazywamy funkcją typu *void*. Wykonuje ona jakieś kroki i obliczenia, ale nie zwraca nic."
      ]
    },
    {
      "cell_type": "code",
      "execution_count": null,
      "id": "1c546378",
      "metadata": {},
      "outputs": [],
      "source": [
        "\n",
        "moja_lista = [ 1, 2, 3, 4 ]\n",
        "\n",
        "def przydatna_funkcja_bez_return():\n",
        "    global moja_lista\n",
        "    moja_lista = []\n",
        "\n",
        "print(f\"Lista przed wywołaniem funkcji: { moja_lista }\")\n",
        "\n",
        "przydatna_funkcja_bez_return()\n",
        "\n",
        "print(f\"Lista po wywołaniu funkcji: { moja_lista }\")\n",
        "\n"
      ]
    },
    {
      "cell_type": "markdown",
      "id": "3d509b21",
      "metadata": {},
      "source": [
        "A co to za słówko `global` nam się pojawiło? Żeby to wytłumaczyć musimy pogadać trochę o *zasięgu* (ang \"scope\") zmiennych.\n",
        "\n",
        "### Zasięg zmiennej\n",
        "\n",
        "Okazuje się, że zmienne nie są nieśmiertelne i mogą nam czasami przepaść!\n",
        "\n",
        "Jeżeli w funkcji deklarujemy nową zmienną, to istnieje ona tylko wewnątrz tej funkcji. Nie możemy jej wykorzystać poza funkcją lub w innej, osobnej funkcji.\n",
        "\n",
        "Jeżeli natomiast zmienna jest zadeklarowana w zasięgu *\"globalnym\"*, to może ona zostać użyta w funkcji. W przypadku powyżej użycie słowa `global` mówi Python'owi, że chcę użyć zmiennej z zasięgu globalnego. Co by się stało gdybym nie użył słowa `global`?\n",
        "\n",
        "Jeżeli deklarujemy w funkcji zmienną o tej samej nazwie co jakaś zmienna globalna, to *nadpisujemy* odniesienie do niej, a kolejne użycia tej zmiennej odwołują się do tej nowo zadeklarowanej."
      ]
    },
    {
      "cell_type": "code",
      "execution_count": null,
      "id": "20c70496",
      "metadata": {},
      "outputs": [],
      "source": [
        "\n",
        "x = 5\n",
        "\n",
        "def moja_funkcja_ze_zmienna():\n",
        "    x = 10\n",
        "    print(f\"Drukuję x w funkcji: {x}\")\n",
        "\n",
        "print(f\"Drukuję x przed wywołaniem funkcji: {x}\")\n",
        "\n",
        "moja_funkcja_ze_zmienna()\n",
        "\n",
        "print(f\"Drukuję x po wywołaniu funkcji: {x}\")\n",
        "\n"
      ]
    },
    {
      "cell_type": "markdown",
      "id": "18TLA-m8CbOZ",
      "metadata": {
        "id": "18TLA-m8CbOZ"
      },
      "source": [
        "## 2. Rekurencja\n",
        "\n",
        "Wiemy już jak działa funkcja i jak można z niej korzystać. Stawiam zatem takie pytanie: co jeżeli uruchomię funkcję samą w sobie?"
      ]
    },
    {
      "cell_type": "code",
      "execution_count": null,
      "id": "F1OVfhb7CbOZ",
      "metadata": {
        "colab": {
          "base_uri": "https://localhost:8080/"
        },
        "id": "F1OVfhb7CbOZ",
        "outputId": "246ebe67-a790-47be-f41f-7d24f9b1894e"
      },
      "outputs": [],
      "source": [
        "def moja_funkcja():\n",
        "    print(\"Jestem w funkcji!\")\n",
        "    moja_funkcja()\n",
        "\n",
        "moja_funkcja()"
      ]
    },
    {
      "cell_type": "markdown",
      "id": "91e1000a",
      "metadata": {},
      "source": [
        "Okazuje się, że jest to jak najbardziej możliwe, ale jest pewien problem. W powyższym przykładzie brakuje miejsca w którym mielibyśmy *przestać* wywoływać się głębiej.\n",
        "\n",
        "Dopracujmy w takim razie naszą funkcję aby takich wywołań była ograniczona liczba."
      ]
    },
    {
      "cell_type": "code",
      "execution_count": null,
      "id": "5317323b",
      "metadata": {},
      "outputs": [],
      "source": [
        "def moja_funkcja_lepsza(n : int):\n",
        "    if n == 5:\n",
        "        return\n",
        "\n",
        "    print(f\"Jestem w funkcji! Aktualne wywołanie: {n}\")\n",
        "    moja_funkcja_lepsza(n + 1)\n",
        "\n",
        "\n",
        "\n",
        "moja_funkcja_lepsza(0)"
      ]
    },
    {
      "cell_type": "markdown",
      "id": "7c26708e",
      "metadata": {},
      "source": [
        "To co robimy wywołując funkcję samą w sobie, to **rekurencja**. Jest to bardzo przydatne narzędzie przy pisaniu programów.\n",
        "\n",
        "To co dodaliśmy do naszej funkcji nazywamy *warunkiem stopu*, czyli jakiś warunek który określa kiedy rekurencja ma się zakończyć.\n",
        "Jeżeli pominiemy warunek stopu, to po prostu komputer będzie liczył kolejne wywołania aż się zmęczy."
      ]
    },
    {
      "cell_type": "markdown",
      "id": "u1SMX2gwCbOa",
      "metadata": {
        "id": "u1SMX2gwCbOa"
      },
      "source": [
        "## 3. Rekurencja w praktyce\n",
        "\n",
        "Już wspomniałem, że rekurencja to przydatne narzędzie, ale może warto by zobaczyć jakieś konkrety?\n",
        "\n",
        "### Obliczanie rozkładu liczby na czynniki pierwsze\n",
        "\n",
        "Jak wiadomo, każda liczba może zostać rozbita na iloczyn liczb pierwszych:\n",
        "\n",
        "$24 = 2 * 2 * 2 * 3$\n",
        "$30 = 2 * 3 * 5$\n",
        "\n",
        "Jak można wykorzystać w takim razie rekurencję aby taki rozkład obliczyć?\n",
        "\n",
        "Zauważmy, że mając jakiś rozkład\n",
        "$30 = 2 * 3 * 5$\n",
        "\n",
        "możemy go przekształcić na \n",
        "$\\frac{30}{2} = 3 * 5$\n",
        "\n",
        "\n",
        "Co to oznacza? Że licząc rozkład liczby $x$, po znalezieniu liczby pierwszej $p$ która dzieli $x$, możemy policzyć $x' = \\frac{x}{p}$ i obliczyć jej rozkład rekurencyjnie :)\n",
        "\n",
        "Tu jest zawarta kluczowa idea problemów rekurencyjnych: jeżeli mamy problem, to rozbijmy go na mniejsze kawałki a następnie spróbujmy rozwiązać je.\n",
        "\n",
        "\n"
      ]
    },
    {
      "cell_type": "code",
      "execution_count": null,
      "id": "317c73cd",
      "metadata": {},
      "outputs": [],
      "source": [
        "\n",
        "# zwraca listę liczb które są rozkładem x na czynniki pierwsze\n",
        "def policz_rozklad(x : int):\n",
        "    if x == 1 or x == 0:\n",
        "        return []\n",
        "\n",
        "    for i in range(2, x - 1):\n",
        "        if x % i == 0:\n",
        "            return [ i ] + policz_rozklad(x // i)\n",
        "    return [ x ]\n",
        "\n",
        "print(f\"Rozkład liczby 120: {policz_rozklad(120)}\")\n",
        "print(f\"Rozkład liczby 64: {policz_rozklad(64)}\")\n",
        "print(f\"Rozkład liczby 134: {policz_rozklad(134)}\")"
      ]
    },
    {
      "cell_type": "markdown",
      "id": "b8f38f0e",
      "metadata": {},
      "source": [
        "### Liczby Fibonacciego\n",
        "\n",
        "Fibonacci to taki średniowieczny matematyk po którym nazwano tzw liczby Fibonacciego (mimo iż ktoś je wymyślił kilkaset lat wcześniej). Idea jest całkiem prosta:\n",
        "\n",
        "Zaczynamy od liczb $1$, $1$, a każda kolejna liczba w ciągu to suma dwóch poprzednich.\n",
        "\n",
        "Czyli ciąg wygląda tak: $1, 1, 2, 3, 5, 8, 13...$\n",
        "\n",
        "Czyli wzór na n'ty element ciągu wygląda tak: $x_n = x_{n-1} + x_{n-2}$.\n",
        "\n",
        "Czy widzicie tutaj rekurencję?"
      ]
    },
    {
      "cell_type": "code",
      "execution_count": 27,
      "id": "5e08e58d",
      "metadata": {},
      "outputs": [
        {
          "name": "stdout",
          "output_type": "stream",
          "text": [
            "Dziesiąta liczba fibonacciego: 55\n",
            "Dwudziesta liczba fibonacciego: 6765\n"
          ]
        }
      ],
      "source": [
        "def fibonacci(x : int):\n",
        "    if x <= 2:\n",
        "        return 1\n",
        "    \n",
        "    return fibonacci(x - 1) + fibonacci(x - 2)\n",
        "\n",
        "print(f\"Dziesiąta liczba fibonacciego: {fibonacci(10)}\")\n",
        "print(f\"Dwudziesta liczba fibonacciego: {fibonacci(20)}\")"
      ]
    }
  ],
  "metadata": {
    "colab": {
      "provenance": []
    },
    "kernelspec": {
      "display_name": "Python 3",
      "language": "python",
      "name": "python3"
    },
    "language_info": {
      "codemirror_mode": {
        "name": "ipython",
        "version": 3
      },
      "file_extension": ".py",
      "mimetype": "text/x-python",
      "name": "python",
      "nbconvert_exporter": "python",
      "pygments_lexer": "ipython3",
      "version": "3.13.0"
    }
  },
  "nbformat": 4,
  "nbformat_minor": 5
}
